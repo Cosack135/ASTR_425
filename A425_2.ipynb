{
 "cells": [
  {
   "cell_type": "markdown",
   "metadata": {},
   "source": [
    "### Astro 425 Homework 2\n",
    "\n",
    "**Problem 1** \n",
    "$$ \\mbox{Useful Equations: } \\rho = 10^9 \\frac{\\mbox{Stars}}{\\mbox{Mpc}^3}; \\ R_{star} = 7*10^8m;   \\ \\mbox{Surface Area of a Sphere} = 4 \\pi r^2; \\ \\mbox{Flux} = \\frac{\\mbox{L}}{4\\pi d^2}$$\n",
    "**My Solution:**\n",
    "\n",
    "Flux $\\propto \\frac{1}{d^2}$, and thinking of the universe as a series of concentric shells, the number of stars per shell would be equal to $4 \\pi d^2 n D$, where n is the number density of stars per unit volume, and D is the depth. Since the number of stars per shell scales with $d^2$ while flux scales with $\\frac{1}{d^2}$, it is clear that the flux from each shell is constant, regardless of distance. \n",
    "\n",
    "Next, it is evident that the fraction of the sky covered by stars is therefore $4\\pi d^2 n D$ multiplied by $\\frac{A}{4\\pi d^2}$, where A is the cross sectional area of the average star, given as $R_{star} = 7*10^8m$ in the problem. \n",
    "\n",
    "From all of the above, the fraction of sky in which a star appears in any random line of sight is given by $\\mbox{Frac} = DAn$\n",
    "The number density and cross sectional area are given by the constraints of the problem, so consequently for any random line of sight to be intersected by a star, it is clear that the equation $1 = DAn$ must hold true. As such, $1 = D * (\\pi * r^2) * \\Big(\\frac{10^9}{\\mbox{Mpc}^3}\\Big)$, so when $D = \\Big(\\frac{\\mbox{Mpc}^3}{10^9 \\pi (7*10^8m)^2}\\Big)$\n",
    "\n",
    "Given that 1 Mpc = $3.086*10^{22}m$, $D \\approx 1.90916*10^{40}m$ or $6.187*10^{17} \\ \\mbox{Mpc}$ for a random line-of-sight to intersect the surface of a star in an Olberian universe.\n",
    "\n",
    "**Problem 2** \n",
    "\n",
    "$$\\mbox{Useful Equations}: H_0 = 500 \\mbox{km/sec/Mpc}; \\ v = H_0 d; \\ \\mbox{Modern Hubble Constant} \\approx 70 \\mbox{km/sec/Mpc}; t = \\frac{d}{v}$$\n",
    "\n",
    "Given the linear relationship between velocity and distances, Hubble's original expansion constant was off by a factor of ~7.14, meaning the distances he calculated for Cepheids were off by this same order of magnitude. The original expansion age of the Universe inferred from this is yielded by $t = \\frac{d}{v}$ and $v = H_0 d$. As such, the approximate age of the universe as estimated using Hubble's original constant of $500 \\ \\mbox{km/sec/Mpc}$ is simply estimated by $\\frac{1}{H_0}$, which, after a unit conversion of Mpc to pc, yields $H_0 = (500 \\mbox{km/s/Mpc} * \\Big(\\frac{\\mbox{Mpc}}{3.08*10^{19} km}\\Big))$ Therefore, $t = \\frac{1}{H_0} \\approx 1.9520279 \\ Gyr$. This drastically alters the age of the universe.\n",
    "\n",
    "Logic follows that we ***would*** have to live in a decelerating universe in order to reconcile the extremely short age estimate yielded by Hubble's original estimates for the universe to appear as it is in its current state, i.e some form of early expansion that slows down in order to make the size of the universe coherent with the model of an expanding universe.\n",
    "\n",
    "**Problem 3** \n",
    "$$ds^2 = R^2d\\theta ^2 + R^2 sin^2(\\theta)d\\phi ^2$$\n",
    "\n",
    "$\\mbox{For a fixed R, r = R}\\theta \\mbox{, so}\\ dr = Rd\\theta \\mbox{ and } ds^2 = dr^2 + R^2sin^2(\\frac{r}{R})d\\phi^2 \\mbox{, as } \\theta = \\frac{r}{R}$ \n",
    "\n",
    "The circumpherence of a circle of constant radius is simply therefore given by $$C = \\int_{0}^{2\\pi} Rsin\\Big(\\frac{r}{R}\\Big)d\\phi = \\int_{0}^{2\\pi}ds = \\phi\\Big(Rsin\\big(\\frac{r}{R}\\big)\\Big)\\bigg\\rvert^{2\\pi}_0 = 2\\pi Rsin\\Big(\\frac{r}{R}\\Big)$$\n",
    "\n",
    "Now, given that $R = 6371 km$ and the circumference of a circle in a flat metric is given by $C_{flat} = 2\\pi r$, and that we can only accurately measure to an accuracy of 1 meter, it follows that $C_{flat} - C \\approx 1m$, so $2\\pi r - 2\\pi Rsin\\big(\\frac{r}{R}\\big) = 1$\n",
    "Wolfram alpha yields a value of 35.1055 for r when R = 6371km, so consequently a circle of fixed radius r = 35.1055km is required to show that the world is not flat."
   ]
  },
  {
   "cell_type": "code",
   "execution_count": null,
   "metadata": {},
   "outputs": [],
   "source": []
  }
 ],
 "metadata": {
  "kernelspec": {
   "display_name": "Python 3",
   "language": "python",
   "name": "python3"
  },
  "language_info": {
   "codemirror_mode": {
    "name": "ipython",
    "version": 3
   },
   "file_extension": ".py",
   "mimetype": "text/x-python",
   "name": "python",
   "nbconvert_exporter": "python",
   "pygments_lexer": "ipython3",
   "version": "3.7.5"
  }
 },
 "nbformat": 4,
 "nbformat_minor": 2
}
