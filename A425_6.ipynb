{
 "cells": [
  {
   "cell_type": "markdown",
   "metadata": {},
   "source": [
    "**Problem 1**\n",
    "\n",
    "At some time between the time of recominbation, $\\large{t_{rec}}$, and today, $\\large{t_0}$, the intergalactic medium must have been ionized.\n",
    "\n",
    "Assume that the baryonic component of the universe instantaneously became completely ionized at some time $\\large{t_*}$.\n",
    "\n",
    "**For what value of $\\large{t_*}$ does the optical depth of reionized material**, $\\Large{\\tau = \\int_{t_*}^{t_0} \\Gamma (t) dt = \\int_{t_*}^{t_0} n_e (t) \\sigma _e c dt} = 0.086$\n",
    "\n",
    "Assume that the universe is spatially flat and matter-dominated, and that the baryonic component on the universe is pure hydrogen. \n",
    "\n",
    "**To what redshift $\\large{z_*}$ does this value of $\\large{t_*}$ coorspond?**\n",
    "\n",
    "**Compare the reionization redshift that you derive with that found by the WMAP team**\n",
    "\n",
    "\n",
    "\n",
    "**Problem 2**\n",
    "\n",
    "Assuming an isothermal sphere, show that the velocity dispersion of the cluster is related to the angle of the arc in the image by $$\\large{\\sigma _v \\approx 10^{3} km s^{-1} \\big(\\frac{\\theta}{28'} \\frac{D_s}{D_{Ls}} \\big)^{1/2}}$$\n",
    "\n",
    "Note: An isothermal sphere has a density profile $\\Large{\\rho (r) = \\frac{\\sigma _ v ^2}{2 \\pi G r^2}}$\n",
    "\n",
    "**Solution**\n",
    "\n",
    "Given the mass distribution, it is clear that $M(r) \\propto r$ since $\\large{\\rho \\propto \\frac{1}{r^2}}$, so the dispersion velocity can be found as follows  $$\\large{v_{r}^2 (r) = \\frac{GM (r)}{r} = 2\\sigma _v ^2}$$\n",
    "\n",
    "We know from previous lectures and from Hw 5, that the einstein radius can be found as $$\\large{\\theta _{E}=\\left({\\frac  {4GM}{c^{2}}}{\\frac  {D_{{{\\rm {LS}}}}}{D_{{{\\rm {L}}}}D_{{{\\rm {S}}}}}}\\right)^{{1/2}}}$$\n",
    "\n",
    "Given the constat deflection angle $\\large{\\theta = \\cfrac{4\\pi \\sigma _v ^2}{c^2}}$ arcsec\n",
    "\n",
    "It follows that the einstein radius for an isothermal sphere is $$\\large{\\theta _E = \\cfrac{4\\pi \\sigma _v ^2}{c^2} \\frac{D_{LS}}{D_s}}$$\n",
    "\n",
    "I'm not quite sure where to go from here, as my resulting answer is off by a factor of about 3-4, but I'll give it anyway, and hopefully my errors followed through.\n",
    "\n",
    "If we turn $\\large{\\sigma _E}$ into practical units, we get $\\large{\\theta_E \\approx 1.15\\bigg(\\cfrac{\\sigma _v}{200 kms^{-1}}^2\\bigg)}$ arcsec = $\\large{\\cfrac{1.15}{40000} \\cfrac{.01667 '}{''}\\sigma _v ^2}$\n",
    "\n",
    "It follows that $\\large{\\sigma _v ^2 = \\frac{\\theta}{4.7926e-7 '} \\frac{D_s}{D_LS} \\approx 74534 \\frac{\\theta}{28'} \\frac{D_s}{D_{LS}}}$\n",
    "\n",
    "So, finally, $$\\large{\\sigma_v \\approx 273 \\sqrt{\\frac{\\theta}{28'} \\frac{D_s}{D_{LS}}}}$$"
   ]
  },
  {
   "cell_type": "code",
   "execution_count": null,
   "metadata": {},
   "outputs": [],
   "source": []
  }
 ],
 "metadata": {
  "kernelspec": {
   "display_name": "Python 3",
   "language": "python",
   "name": "python3"
  },
  "language_info": {
   "codemirror_mode": {
    "name": "ipython",
    "version": 3
   },
   "file_extension": ".py",
   "mimetype": "text/x-python",
   "name": "python",
   "nbconvert_exporter": "python",
   "pygments_lexer": "ipython3",
   "version": "3.7.5"
  }
 },
 "nbformat": 4,
 "nbformat_minor": 2
}
